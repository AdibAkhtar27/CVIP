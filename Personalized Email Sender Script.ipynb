{
 "cells": [
  {
   "cell_type": "code",
   "execution_count": 8,
   "metadata": {},
   "outputs": [],
   "source": [
    "\n",
    "import smtplib\n",
    "import ssl\n",
    "from email.message import EmailMessage\n",
    "\n",
    "# Define email sender and receiver\n",
    "email_sender = 'thesassyclub69@gmail.com'\n",
    "email_password = 'zozw fsan mvwf akti'\n",
    "email_receiver = 'contact@coderscave.in'\n",
    "\n",
    "# Set the subject and body of the email\n",
    "subject = 'Check out my new project on Linkedin profile'\n",
    "body = \"\"\"\n",
    "Check my new project for CodersCave \"The Personalized Email Sender Script\" on Linkedin :https://www.linkedin.com/posts/adib-akhtar-b324b9290_pythondeveloper-webdevelopment-projectcompletion-activity-7159276160537812994-GFjd?utm_source=share&utm_medium=member_desktop\n",
    "\"\"\"\n",
    "\n",
    "em = EmailMessage()\n",
    "em['From'] = email_sender\n",
    "em['To'] = email_receiver\n",
    "em['Subject'] = subject\n",
    "em.set_content(body)\n",
    "\n",
    "# Add SSL (layer of security)\n",
    "context = ssl.create_default_context()\n",
    "\n",
    "# Log in and send the email\n",
    "with smtplib.SMTP_SSL('smtp.gmail.com', 465, context=context) as smtp:\n",
    "    smtp.login(email_sender, email_password)\n",
    "    smtp.sendmail(email_sender, email_receiver, em.as_string())"
   ]
  }
 ],
 "metadata": {
  "kernelspec": {
   "display_name": "Python 3",
   "language": "python",
   "name": "python3"
  },
  "language_info": {
   "name": "python",
   "version": "3.12.1"
  }
 },
 "nbformat": 4,
 "nbformat_minor": 2
}

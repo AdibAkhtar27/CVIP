{
  "nbformat": 4,
  "nbformat_minor": 0,
  "metadata": {
    "colab": {
      "provenance": []
    },
    "kernelspec": {
      "name": "python3",
      "display_name": "Python 3"
    },
    "language_info": {
      "name": "python"
    }
  },
  "cells": [
    {
      "cell_type": "code",
      "source": [
        "# Input the number of people and the total discount\n",
        "num = int(input(\"Enter the number of people: \"))\n",
        "discount = float(input(\"Enter the total discount (%): \"))\n",
        "extrafees = float(input(\"Enter any extra fees: \"))\n",
        "\n",
        "# Initialize empty lists to store the price and total cost of items for each person\n",
        "totalcost = []\n",
        "\n",
        "# Loop through each person and input their price and total cost of items\n",
        "for i in range(num):\n",
        "    total_cost = float(input(\"Enter the total cost of items ordered by person {}: \".format(i+1)))\n",
        "    totalcost.append(total_cost)\n",
        "\n",
        "# Calculate the total cost of all items ordered and the discounted total\n",
        "total_cost_all = sum(totalcost)\n",
        "discountedtotal = total_cost_all * (1 - discount/100)\n",
        "\n",
        "# Calculate the amount each person needs to pay based on the percentage of the total cost of the items they ordered\n",
        "amaountlist = []\n",
        "for i in range(num):\n",
        "    amount = (totalcost[i] / total_cost_all) * discountedtotal + (extrafees / num)\n",
        "    amaountlist.append(amount)\n",
        "\n",
        "# Print the amount each person needs to pay\n",
        "for i in range(num):\n",
        "    print(\"Person {}: Order total = ₹{:.2f}, Amount owed = ₹{:.2f}\".format(i+1, totalcost[i], amaountlist[i]))\n",
        "\n",
        "# Calculate and print the total amount owed by all people\n",
        "total_amount_owed = sum(amaountlist)\n",
        "print(\"Total amount owed by all people = ₹{:.2f}\".format(total_amount_owed))"
      ],
      "metadata": {
        "colab": {
          "base_uri": "https://localhost:8080/"
        },
        "id": "WL6XeKgCzNqC",
        "outputId": "d70d0d59-2037-4eb1-f9e2-4cc70fd9ab90"
      },
      "execution_count": 8,
      "outputs": [
        {
          "output_type": "stream",
          "name": "stdout",
          "text": [
            "Enter the number of people: 5\n",
            "Enter the total discount (%): 50\n",
            "Enter any extra fees: 0\n",
            "Enter the total cost of items ordered by person 1: 200\n",
            "Enter the total cost of items ordered by person 2: 400\n",
            "Enter the total cost of items ordered by person 3: 100\n",
            "Enter the total cost of items ordered by person 4: 200\n",
            "Enter the total cost of items ordered by person 5: 100\n",
            "Person 1: Order total = ₹200.00, Amount owed = ₹100.00\n",
            "Person 2: Order total = ₹400.00, Amount owed = ₹200.00\n",
            "Person 3: Order total = ₹100.00, Amount owed = ₹50.00\n",
            "Person 4: Order total = ₹200.00, Amount owed = ₹100.00\n",
            "Person 5: Order total = ₹100.00, Amount owed = ₹50.00\n",
            "Total amount owed by all people = ₹500.00\n"
          ]
        }
      ]
    }
  ]
}